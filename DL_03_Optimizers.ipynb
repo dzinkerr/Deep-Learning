{
  "cells": [
    {
      "cell_type": "code",
      "execution_count": 1,
      "metadata": {
        "id": "auaqKUAuFRwJ"
      },
      "outputs": [],
      "source": [
        "import numpy as np\n",
        "import pandas as pd\n",
        "import matplotlib.pyplot as plt"
      ]
    },
    {
      "cell_type": "code",
      "execution_count": 2,
      "metadata": {
        "id": "R7BOD99kHvAZ"
      },
      "outputs": [],
      "source": [
        "# Usaremos la base de datos: Beijing Multi-Site Air-Quality Data Data Set,\n",
        "# la cual puede ser obtenida desde https://archive.ics.uci.edu/ml/datasets/Beijing+Multi-Site+Air-Quality+Data\n",
        "# (revisar la página para más detalles sobre los datos)\n",
        "# Se ha proporcionado un archivo csv con la información obtenida de la estación\n",
        "# de monitoreo Aotizhongxin, el cual contiene 35,064 registros.\n",
        "\n",
        "# El objetivo es poder predecir la concetración de PM2.5 y de PM10 a partir de las\n",
        "# variables año, mes, día, hora, temperatura, presión, punto de rocío, \n",
        "# precipitación y velocidad del viento."
      ]
    },
    {
      "cell_type": "markdown",
      "metadata": {
        "id": "oN6aBWNOWrY7"
      },
      "source": [
        "# Part 1: Load data into Colab"
      ]
    },
    {
      "cell_type": "code",
      "execution_count": 3,
      "metadata": {
        "colab": {
          "base_uri": "https://localhost:8080/",
          "height": 423
        },
        "id": "JwhYkkpoGG8y",
        "outputId": "6ab52b3a-0408-4668-fbe2-ce66e30673d6"
      },
      "outputs": [
        {
          "data": {
            "text/html": [
              "<div>\n",
              "<style scoped>\n",
              "    .dataframe tbody tr th:only-of-type {\n",
              "        vertical-align: middle;\n",
              "    }\n",
              "\n",
              "    .dataframe tbody tr th {\n",
              "        vertical-align: top;\n",
              "    }\n",
              "\n",
              "    .dataframe thead th {\n",
              "        text-align: right;\n",
              "    }\n",
              "</style>\n",
              "<table border=\"1\" class=\"dataframe\">\n",
              "  <thead>\n",
              "    <tr style=\"text-align: right;\">\n",
              "      <th></th>\n",
              "      <th>No</th>\n",
              "      <th>year</th>\n",
              "      <th>month</th>\n",
              "      <th>day</th>\n",
              "      <th>hour</th>\n",
              "      <th>PM2.5</th>\n",
              "      <th>PM10</th>\n",
              "      <th>SO2</th>\n",
              "      <th>NO2</th>\n",
              "      <th>CO</th>\n",
              "      <th>O3</th>\n",
              "      <th>TEMP</th>\n",
              "      <th>PRES</th>\n",
              "      <th>DEWP</th>\n",
              "      <th>RAIN</th>\n",
              "      <th>wd</th>\n",
              "      <th>WSPM</th>\n",
              "      <th>station</th>\n",
              "    </tr>\n",
              "  </thead>\n",
              "  <tbody>\n",
              "    <tr>\n",
              "      <th>0</th>\n",
              "      <td>1</td>\n",
              "      <td>2013</td>\n",
              "      <td>3</td>\n",
              "      <td>1</td>\n",
              "      <td>0</td>\n",
              "      <td>4.0</td>\n",
              "      <td>4.0</td>\n",
              "      <td>4.0</td>\n",
              "      <td>7.0</td>\n",
              "      <td>300.0</td>\n",
              "      <td>77.0</td>\n",
              "      <td>-0.7</td>\n",
              "      <td>1023.0</td>\n",
              "      <td>-18.8</td>\n",
              "      <td>0.0</td>\n",
              "      <td>NNW</td>\n",
              "      <td>4.4</td>\n",
              "      <td>Aotizhongxin</td>\n",
              "    </tr>\n",
              "    <tr>\n",
              "      <th>1</th>\n",
              "      <td>2</td>\n",
              "      <td>2013</td>\n",
              "      <td>3</td>\n",
              "      <td>1</td>\n",
              "      <td>1</td>\n",
              "      <td>8.0</td>\n",
              "      <td>8.0</td>\n",
              "      <td>4.0</td>\n",
              "      <td>7.0</td>\n",
              "      <td>300.0</td>\n",
              "      <td>77.0</td>\n",
              "      <td>-1.1</td>\n",
              "      <td>1023.2</td>\n",
              "      <td>-18.2</td>\n",
              "      <td>0.0</td>\n",
              "      <td>N</td>\n",
              "      <td>4.7</td>\n",
              "      <td>Aotizhongxin</td>\n",
              "    </tr>\n",
              "    <tr>\n",
              "      <th>2</th>\n",
              "      <td>3</td>\n",
              "      <td>2013</td>\n",
              "      <td>3</td>\n",
              "      <td>1</td>\n",
              "      <td>2</td>\n",
              "      <td>7.0</td>\n",
              "      <td>7.0</td>\n",
              "      <td>5.0</td>\n",
              "      <td>10.0</td>\n",
              "      <td>300.0</td>\n",
              "      <td>73.0</td>\n",
              "      <td>-1.1</td>\n",
              "      <td>1023.5</td>\n",
              "      <td>-18.2</td>\n",
              "      <td>0.0</td>\n",
              "      <td>NNW</td>\n",
              "      <td>5.6</td>\n",
              "      <td>Aotizhongxin</td>\n",
              "    </tr>\n",
              "    <tr>\n",
              "      <th>3</th>\n",
              "      <td>4</td>\n",
              "      <td>2013</td>\n",
              "      <td>3</td>\n",
              "      <td>1</td>\n",
              "      <td>3</td>\n",
              "      <td>6.0</td>\n",
              "      <td>6.0</td>\n",
              "      <td>11.0</td>\n",
              "      <td>11.0</td>\n",
              "      <td>300.0</td>\n",
              "      <td>72.0</td>\n",
              "      <td>-1.4</td>\n",
              "      <td>1024.5</td>\n",
              "      <td>-19.4</td>\n",
              "      <td>0.0</td>\n",
              "      <td>NW</td>\n",
              "      <td>3.1</td>\n",
              "      <td>Aotizhongxin</td>\n",
              "    </tr>\n",
              "    <tr>\n",
              "      <th>4</th>\n",
              "      <td>5</td>\n",
              "      <td>2013</td>\n",
              "      <td>3</td>\n",
              "      <td>1</td>\n",
              "      <td>4</td>\n",
              "      <td>3.0</td>\n",
              "      <td>3.0</td>\n",
              "      <td>12.0</td>\n",
              "      <td>12.0</td>\n",
              "      <td>300.0</td>\n",
              "      <td>72.0</td>\n",
              "      <td>-2.0</td>\n",
              "      <td>1025.2</td>\n",
              "      <td>-19.5</td>\n",
              "      <td>0.0</td>\n",
              "      <td>N</td>\n",
              "      <td>2.0</td>\n",
              "      <td>Aotizhongxin</td>\n",
              "    </tr>\n",
              "    <tr>\n",
              "      <th>...</th>\n",
              "      <td>...</td>\n",
              "      <td>...</td>\n",
              "      <td>...</td>\n",
              "      <td>...</td>\n",
              "      <td>...</td>\n",
              "      <td>...</td>\n",
              "      <td>...</td>\n",
              "      <td>...</td>\n",
              "      <td>...</td>\n",
              "      <td>...</td>\n",
              "      <td>...</td>\n",
              "      <td>...</td>\n",
              "      <td>...</td>\n",
              "      <td>...</td>\n",
              "      <td>...</td>\n",
              "      <td>...</td>\n",
              "      <td>...</td>\n",
              "      <td>...</td>\n",
              "    </tr>\n",
              "    <tr>\n",
              "      <th>35059</th>\n",
              "      <td>35060</td>\n",
              "      <td>2017</td>\n",
              "      <td>2</td>\n",
              "      <td>28</td>\n",
              "      <td>19</td>\n",
              "      <td>12.0</td>\n",
              "      <td>29.0</td>\n",
              "      <td>5.0</td>\n",
              "      <td>35.0</td>\n",
              "      <td>400.0</td>\n",
              "      <td>95.0</td>\n",
              "      <td>12.5</td>\n",
              "      <td>1013.5</td>\n",
              "      <td>-16.2</td>\n",
              "      <td>0.0</td>\n",
              "      <td>NW</td>\n",
              "      <td>2.4</td>\n",
              "      <td>Aotizhongxin</td>\n",
              "    </tr>\n",
              "    <tr>\n",
              "      <th>35060</th>\n",
              "      <td>35061</td>\n",
              "      <td>2017</td>\n",
              "      <td>2</td>\n",
              "      <td>28</td>\n",
              "      <td>20</td>\n",
              "      <td>13.0</td>\n",
              "      <td>37.0</td>\n",
              "      <td>7.0</td>\n",
              "      <td>45.0</td>\n",
              "      <td>500.0</td>\n",
              "      <td>81.0</td>\n",
              "      <td>11.6</td>\n",
              "      <td>1013.6</td>\n",
              "      <td>-15.1</td>\n",
              "      <td>0.0</td>\n",
              "      <td>WNW</td>\n",
              "      <td>0.9</td>\n",
              "      <td>Aotizhongxin</td>\n",
              "    </tr>\n",
              "    <tr>\n",
              "      <th>35061</th>\n",
              "      <td>35062</td>\n",
              "      <td>2017</td>\n",
              "      <td>2</td>\n",
              "      <td>28</td>\n",
              "      <td>21</td>\n",
              "      <td>16.0</td>\n",
              "      <td>37.0</td>\n",
              "      <td>10.0</td>\n",
              "      <td>66.0</td>\n",
              "      <td>700.0</td>\n",
              "      <td>58.0</td>\n",
              "      <td>10.8</td>\n",
              "      <td>1014.2</td>\n",
              "      <td>-13.3</td>\n",
              "      <td>0.0</td>\n",
              "      <td>NW</td>\n",
              "      <td>1.1</td>\n",
              "      <td>Aotizhongxin</td>\n",
              "    </tr>\n",
              "    <tr>\n",
              "      <th>35062</th>\n",
              "      <td>35063</td>\n",
              "      <td>2017</td>\n",
              "      <td>2</td>\n",
              "      <td>28</td>\n",
              "      <td>22</td>\n",
              "      <td>21.0</td>\n",
              "      <td>44.0</td>\n",
              "      <td>12.0</td>\n",
              "      <td>87.0</td>\n",
              "      <td>700.0</td>\n",
              "      <td>35.0</td>\n",
              "      <td>10.5</td>\n",
              "      <td>1014.4</td>\n",
              "      <td>-12.9</td>\n",
              "      <td>0.0</td>\n",
              "      <td>NNW</td>\n",
              "      <td>1.2</td>\n",
              "      <td>Aotizhongxin</td>\n",
              "    </tr>\n",
              "    <tr>\n",
              "      <th>35063</th>\n",
              "      <td>35064</td>\n",
              "      <td>2017</td>\n",
              "      <td>2</td>\n",
              "      <td>28</td>\n",
              "      <td>23</td>\n",
              "      <td>19.0</td>\n",
              "      <td>31.0</td>\n",
              "      <td>10.0</td>\n",
              "      <td>79.0</td>\n",
              "      <td>600.0</td>\n",
              "      <td>42.0</td>\n",
              "      <td>8.6</td>\n",
              "      <td>1014.1</td>\n",
              "      <td>-15.9</td>\n",
              "      <td>0.0</td>\n",
              "      <td>NNE</td>\n",
              "      <td>1.3</td>\n",
              "      <td>Aotizhongxin</td>\n",
              "    </tr>\n",
              "  </tbody>\n",
              "</table>\n",
              "<p>31815 rows × 18 columns</p>\n",
              "</div>"
            ],
            "text/plain": [
              "          No  year  month  day  hour  PM2.5  PM10   SO2   NO2     CO    O3  \\\n",
              "0          1  2013      3    1     0    4.0   4.0   4.0   7.0  300.0  77.0   \n",
              "1          2  2013      3    1     1    8.0   8.0   4.0   7.0  300.0  77.0   \n",
              "2          3  2013      3    1     2    7.0   7.0   5.0  10.0  300.0  73.0   \n",
              "3          4  2013      3    1     3    6.0   6.0  11.0  11.0  300.0  72.0   \n",
              "4          5  2013      3    1     4    3.0   3.0  12.0  12.0  300.0  72.0   \n",
              "...      ...   ...    ...  ...   ...    ...   ...   ...   ...    ...   ...   \n",
              "35059  35060  2017      2   28    19   12.0  29.0   5.0  35.0  400.0  95.0   \n",
              "35060  35061  2017      2   28    20   13.0  37.0   7.0  45.0  500.0  81.0   \n",
              "35061  35062  2017      2   28    21   16.0  37.0  10.0  66.0  700.0  58.0   \n",
              "35062  35063  2017      2   28    22   21.0  44.0  12.0  87.0  700.0  35.0   \n",
              "35063  35064  2017      2   28    23   19.0  31.0  10.0  79.0  600.0  42.0   \n",
              "\n",
              "       TEMP    PRES  DEWP  RAIN   wd  WSPM       station  \n",
              "0      -0.7  1023.0 -18.8   0.0  NNW   4.4  Aotizhongxin  \n",
              "1      -1.1  1023.2 -18.2   0.0    N   4.7  Aotizhongxin  \n",
              "2      -1.1  1023.5 -18.2   0.0  NNW   5.6  Aotizhongxin  \n",
              "3      -1.4  1024.5 -19.4   0.0   NW   3.1  Aotizhongxin  \n",
              "4      -2.0  1025.2 -19.5   0.0    N   2.0  Aotizhongxin  \n",
              "...     ...     ...   ...   ...  ...   ...           ...  \n",
              "35059  12.5  1013.5 -16.2   0.0   NW   2.4  Aotizhongxin  \n",
              "35060  11.6  1013.6 -15.1   0.0  WNW   0.9  Aotizhongxin  \n",
              "35061  10.8  1014.2 -13.3   0.0   NW   1.1  Aotizhongxin  \n",
              "35062  10.5  1014.4 -12.9   0.0  NNW   1.2  Aotizhongxin  \n",
              "35063   8.6  1014.1 -15.9   0.0  NNE   1.3  Aotizhongxin  \n",
              "\n",
              "[31815 rows x 18 columns]"
            ]
          },
          "execution_count": 3,
          "metadata": {},
          "output_type": "execute_result"
        }
      ],
      "source": [
        "# Quedan 31,815 registros despues de eliminar NaN's\n",
        "import os\n",
        "\n",
        "# save filepath to variable for easier access\n",
        "#PRSA_file_path = os.path.abspath(\"PRSA_Aotizhongxin.csv\")\n",
        "# read the data and store data in DataFrame titled melbourne_data\n",
        "df = pd.read_csv(r'C:\\Users\\diego\\pyprojects\\Escuela\\PRSA_Aotizhongxin.csv') # Cambia al nombre del archivo que cargues\n",
        "df.dropna(inplace=True)\n",
        "df"
      ]
    },
    {
      "cell_type": "markdown",
      "metadata": {
        "id": "7AnH6VY-W09n"
      },
      "source": [
        "# Part 2: Format data and split it into numpy arrays"
      ]
    },
    {
      "cell_type": "code",
      "execution_count": 4,
      "metadata": {
        "id": "OaRBLIHNdrSN"
      },
      "outputs": [],
      "source": [
        "# AUX function to put categorical data into one-hot encoding format\n",
        "from sklearn.preprocessing import OneHotEncoder\n",
        "def winddir_to_categorical(winddir):\n",
        "  enc = OneHotEncoder(sparse=False)\n",
        "  WD = enc.fit_transform(winddir)\n",
        "  print(\"== categories:\", enc.categories_, \"==\")\n",
        "  return WD"
      ]
    },
    {
      "cell_type": "code",
      "execution_count": 5,
      "metadata": {
        "colab": {
          "base_uri": "https://localhost:8080/",
          "height": 681
        },
        "id": "dFhZ5cEGSk2e",
        "outputId": "f8b0dac2-53f3-4ec5-9d1f-7ff21c4cea41"
      },
      "outputs": [
        {
          "name": "stdout",
          "output_type": "stream",
          "text": [
            "== categories: [array(['E', 'ENE', 'ESE', 'N', 'NE', 'NNE', 'NNW', 'NW', 'S', 'SE', 'SSE',\n",
            "       'SSW', 'SW', 'W', 'WNW', 'WSW'], dtype=object)] ==\n",
            "Input values X with shape (31815, 25). With values\n",
            " min = [ 2.013e+03  1.000e+00  1.000e+00  0.000e+00 -1.680e+01  9.859e+02\n",
            " -3.530e+01  0.000e+00  0.000e+00  0.000e+00  0.000e+00  0.000e+00\n",
            "  0.000e+00  0.000e+00  0.000e+00  0.000e+00  0.000e+00  0.000e+00\n",
            "  0.000e+00  0.000e+00  0.000e+00  0.000e+00  0.000e+00  0.000e+00\n",
            "  0.000e+00]\n",
            " mean = [2.01471491e+03 6.40188590e+00 1.55785636e+01 1.16247996e+01\n",
            " 1.37756108e+01 1.01180038e+03 3.24110640e+00 6.82351092e-02\n",
            " 1.72047148e+00 7.51532296e-02 1.12619833e-01 5.05421971e-02\n",
            " 5.86830112e-02 1.43988685e-01 6.99984284e-02 4.45073079e-02\n",
            " 5.37482320e-02 3.81581015e-02 3.91010530e-02 2.96715386e-02\n",
            " 6.03488920e-02 9.57724344e-02 3.36005029e-02 3.14002829e-02\n",
            " 6.27062706e-02]\n",
            " stdd = [ 1.16251735  3.41679338  8.79481542  6.92676545 11.36885668 10.33870697\n",
            " 13.66764783  0.83747595  1.20422141  0.26363843  0.31612752  0.21906091\n",
            "  0.23503046  0.35107826  0.25514437  0.20621932  0.2255202   0.19157782\n",
            "  0.1938354   0.16967952  0.23813211  0.29427891  0.18019853  0.17439698\n",
            "  0.2424339 ]\n",
            " max = [2.017e+03 1.200e+01 3.100e+01 2.300e+01 4.050e+01 1.042e+03 2.850e+01\n",
            " 4.640e+01 1.120e+01 1.000e+00 1.000e+00 1.000e+00 1.000e+00 1.000e+00\n",
            " 1.000e+00 1.000e+00 1.000e+00 1.000e+00 1.000e+00 1.000e+00 1.000e+00\n",
            " 1.000e+00 1.000e+00 1.000e+00 1.000e+00]\n"
          ]
        },
        {
          "data": {
            "image/png": "[encoded data removed]",
            "text/plain": [
              "<Figure size 432x288 with 1 Axes>"
            ]
          },
          "metadata": {
            "needs_background": "light"
          },
          "output_type": "display_data"
        }
      ],
      "source": [
        "# Extract input features and convert them to a numpy array\n",
        "X = df[['year', 'month', 'day', 'hour', 'TEMP', 'PRES', 'DEWP', 'RAIN', 'WSPM' ]].to_numpy()\n",
        "WD = winddir_to_categorical(df[['wd']])\n",
        "X = np.concatenate((X, WD), axis=1)\n",
        "\n",
        "print(f\"Input values X with shape {X.shape}. With values\")\n",
        "\n",
        "\n",
        "print(f\" min = {X.min(axis=0)}\")\n",
        "print(f\" mean = {X.mean(axis=0)}\")\n",
        "print(f\" stdd = {X.std(axis=0)}\")\n",
        "print(f\" max = {X.max(axis=0)}\")\n",
        "\n",
        "plt.boxplot(X)\n",
        "plt.show()"
      ]
    },
    {
      "cell_type": "code",
      "execution_count": 6,
      "metadata": {
        "colab": {
          "base_uri": "https://localhost:8080/",
          "height": 716
        },
        "id": "MwImDcVGg5O7",
        "outputId": "e8b20ca8-0843-4622-c03a-db2d86516403"
      },
      "outputs": [
        {
          "name": "stdout",
          "output_type": "stream",
          "text": [
            "[2.01471491e+03 6.40188590e+00 1.55785636e+01 1.16247996e+01\n",
            " 1.37756108e+01 1.01180038e+03 3.24110640e+00 6.82351092e-02\n",
            " 1.72047148e+00 7.51532296e-02 1.12619833e-01 5.05421971e-02\n",
            " 5.86830112e-02 1.43988685e-01 6.99984284e-02 4.45073079e-02\n",
            " 5.37482320e-02 3.81581015e-02 3.91010530e-02 2.96715386e-02\n",
            " 6.03488920e-02 9.57724344e-02 3.36005029e-02 3.14002829e-02\n",
            " 6.27062706e-02]\n",
            " min = [-1.47517312 -1.58098114 -1.65763156 -1.67824358 -2.68941826 -2.50518608\n",
            " -2.81987851 -0.0814771  -1.42870029 -0.28506174 -0.35624812 -0.23072212\n",
            " -0.24968258 -0.41013273 -0.27434832 -0.21582511 -0.23833001 -0.19917808\n",
            " -0.20172298 -0.17486812 -0.2534261  -0.32544784 -0.1864638  -0.18005062\n",
            " -0.25865307]\n",
            " mean = [ 2.53620974e-13 -5.20961380e-15 -1.40856471e-15 -1.27022216e-17\n",
            " -1.02426039e-14 -1.09446446e-12 -5.83953233e-16  2.22055074e-15\n",
            "  1.58522417e-14  1.72582712e-14 -4.05981498e-15  1.36230193e-14\n",
            "  1.06470074e-14 -1.71220957e-14 -1.80721207e-14  1.59185533e-15\n",
            " -1.52863037e-14 -9.66857167e-16 -1.04650289e-14 -9.16496697e-17\n",
            "  7.44947610e-15 -1.07559691e-14 -7.01441105e-15 -7.47533943e-15\n",
            " -1.16311731e-14]\n",
            " stdd = [1. 1. 1. 1. 1. 1. 1. 1. 1. 1. 1. 1. 1. 1. 1. 1. 1. 1. 1. 1. 1. 1. 1. 1.\n",
            " 1.]\n",
            " max = [ 1.96563574  1.63841165  1.75346903  1.64220955  2.35066639  2.92102439\n",
            "  1.84807905 55.32309879  7.87191495  3.50801198  2.80703236  4.33421824\n",
            "  4.00508514  2.43823505  3.64500138  4.63338109  4.19586262  5.02063288\n",
            "  4.9572935   5.71859515  3.94592353  3.07268902  5.36297113  5.55399377\n",
            "  3.86618267]\n"
          ]
        },
        {
          "data": {
            "image/png": "[encoded data removed]",
            "text/plain": [
              "<Figure size 432x288 with 1 Axes>"
            ]
          },
          "metadata": {
            "needs_background": "light"
          },
          "output_type": "display_data"
        }
      ],
      "source": [
        "# Normalize (zero-center) and standardize (scale) input data\n",
        "from sklearn.preprocessing import StandardScaler\n",
        "scalerX = StandardScaler()\n",
        "X = scalerX.fit_transform(X)\n",
        "print(scalerX.mean_)\n",
        "\n",
        "print(f\" min = {X.min(axis=0)}\")\n",
        "print(f\" mean = {X.mean(axis=0)}\")\n",
        "print(f\" stdd = {X.std(axis=0)}\")\n",
        "print(f\" max = {X.max(axis=0)}\")\n",
        "\n",
        "plt.boxplot(X)\n",
        "plt.show()"
      ]
    },
    {
      "cell_type": "code",
      "execution_count": 7,
      "metadata": {
        "colab": {
          "base_uri": "https://localhost:8080/",
          "height": 352
        },
        "id": "dA2VIaEEHGwA",
        "outputId": "f28f0e6e-4b1b-4d44-cde9-1c2487c89684"
      },
      "outputs": [
        {
          "name": "stdout",
          "output_type": "stream",
          "text": [
            "Target values Y with shape (31815, 2). With values\n",
            " min = [3. 2.]\n",
            " mean = [81.86363036 58.97633192]\n",
            " stdd = [80.44822547 37.06080184]\n",
            " max = [713. 290.]\n"
          ]
        },
        {
          "data": {
            "image/png": "[encoded data removed]",
            "text/plain": [
              "<Figure size 432x288 with 1 Axes>"
            ]
          },
          "metadata": {
            "needs_background": "light"
          },
          "output_type": "display_data"
        }
      ],
      "source": [
        "# Extract output features and convert them to a numpy array\n",
        "Y = df[['PM2.5', 'NO2']].to_numpy()\n",
        "\n",
        "print(f\"Target values Y with shape {Y.shape}. With values\")\n",
        "print(f\" min = {Y.min(axis=0)}\")\n",
        "print(f\" mean = {Y.mean(axis=0)}\")\n",
        "print(f\" stdd = {Y.std(axis=0)}\")\n",
        "print(f\" max = {Y.max(axis=0)}\")\n",
        "\n",
        "plt.boxplot(Y)\n",
        "plt.show()"
      ]
    },
    {
      "cell_type": "code",
      "execution_count": 8,
      "metadata": {
        "colab": {
          "base_uri": "https://localhost:8080/",
          "height": 352
        },
        "id": "d4nkvcV3MmC9",
        "outputId": "ee6ac507-1287-47b9-d8d9-ed4a2a6bfea5"
      },
      "outputs": [
        {
          "name": "stdout",
          "output_type": "stream",
          "text": [
            "[81.86363036 58.97633192]\n",
            " min = [-0.98030292 -1.53737451]\n",
            " mean = [-3.21603501e-17  1.42934889e-17]\n",
            " stdd = [1. 1.]\n",
            " max = [7.84524911 6.23363923]\n"
          ]
        },
        {
          "data": {
            "image/png": "[encoded data removed]",
            "text/plain": [
              "<Figure size 432x288 with 1 Axes>"
            ]
          },
          "metadata": {
            "needs_background": "light"
          },
          "output_type": "display_data"
        }
      ],
      "source": [
        "# Normalize (zero-center) and standardize (scale) output data\n",
        "scalerY = StandardScaler()\n",
        "Y = scalerY.fit_transform(Y)\n",
        "print(scalerY.mean_)\n",
        "\n",
        "print(f\" min = {Y.min(axis=0)}\")\n",
        "print(f\" mean = {Y.mean(axis=0)}\")\n",
        "print(f\" stdd = {Y.std(axis=0)}\")\n",
        "print(f\" max = {Y.max(axis=0)}\")\n",
        "\n",
        "plt.boxplot(Y)\n",
        "plt.show()"
      ]
    },
    {
      "cell_type": "code",
      "execution_count": 9,
      "metadata": {
        "colab": {
          "base_uri": "https://localhost:8080/"
        },
        "id": "zAKGr2d4W_OU",
        "outputId": "3d5de1f6-72b5-4d35-80e7-8fea8ec3e547"
      },
      "outputs": [
        {
          "name": "stdout",
          "output_type": "stream",
          "text": [
            "(30224, 25)\n",
            "(30224, 2)\n",
            "(1591, 25)\n",
            "(1591, 2)\n"
          ]
        }
      ],
      "source": [
        "# Split data into train+val and test sets\n",
        "from sklearn.model_selection import train_test_split\n",
        "x_train, x_test, y_train, y_test = train_test_split(X, Y, test_size=0.05)\n",
        "\n",
        "print(x_train.shape)\n",
        "print(y_train.shape)\n",
        "print(x_test.shape)\n",
        "print(y_test.shape)"
      ]
    },
    {
      "cell_type": "code",
      "execution_count": 10,
      "metadata": {
        "colab": {
          "base_uri": "https://localhost:8080/",
          "height": 295
        },
        "id": "7dQRDsU4znyI",
        "outputId": "8af84717-17db-4000-f08d-cf72505ae386"
      },
      "outputs": [
        {
          "data": {
            "image/png": "[encoded data removed]",
            "text/plain": [
              "<Figure size 432x288 with 1 Axes>"
            ]
          },
          "metadata": {
            "needs_background": "light"
          },
          "output_type": "display_data"
        }
      ],
      "source": [
        "# Plot y_test\n",
        "# Esta gráfica es para ver sólo si los sets de entrenamiento y test cubren las mismas\n",
        "# áreas (¿tienen la misma distribución?). No se espera que los puntos coincidan ya que\n",
        "# son dos sets distintos.\n",
        "plt.scatter(y_train[:, 0], y_train[:, 1], c='r', s=2, label='y_train')\n",
        "plt.scatter(y_test[:, 0], y_test[:, 1], c='b', s=2, label='y_test')\n",
        "\n",
        "plt.legend()\n",
        "plt.grid(True)\n",
        "plt.xlabel('PM2.5')\n",
        "plt.ylabel('NO2')\n",
        "plt.title('Outputs')\n",
        "plt.show()"
      ]
    },
    {
      "cell_type": "markdown",
      "metadata": {
        "id": "dreChfyNYqsB"
      },
      "source": [
        "# Part 3: Create DNN model and train it"
      ]
    },
    {
      "cell_type": "code",
      "execution_count": 11,
      "metadata": {
        "id": "JO90QIV_HZyX"
      },
      "outputs": [],
      "source": [
        "# tensorflow imports\n",
        "import tensorflow as tf\n",
        "from tensorflow.keras.models import Sequential\n",
        "from tensorflow.keras.layers import Input, Dense"
      ]
    },
    {
      "cell_type": "code",
      "execution_count": 60,
      "metadata": {
        "colab": {
          "base_uri": "https://localhost:8080/"
        },
        "id": "ENX7lCg3Ido4",
        "outputId": "a93a387b-aa35-483b-ce81-68647ec5169e"
      },
      "outputs": [
        {
          "name": "stdout",
          "output_type": "stream",
          "text": [
            "Model: \"sequential_6\"\n",
            "_________________________________________________________________\n",
            " Layer (type)                Output Shape              Param #   \n",
            "=================================================================\n",
            " dense_19 (Dense)            (None, 256)               6656      \n",
            "                                                                 \n",
            " dense_20 (Dense)            (None, 512)               131584    \n",
            "                                                                 \n",
            " dense_21 (Dense)            (None, 1024)              525312    \n",
            "                                                                 \n",
            " dense_22 (Dense)            (None, 512)               524800    \n",
            "                                                                 \n",
            " dense_23 (Dense)            (None, 256)               131328    \n",
            "                                                                 \n",
            " OUTPUT (Dense)              (None, 2)                 514       \n",
            "                                                                 \n",
            "=================================================================\n",
            "Total params: 1,320,194\n",
            "Trainable params: 1,320,194\n",
            "Non-trainable params: 0\n",
            "_________________________________________________________________\n"
          ]
        }
      ],
      "source": [
        "# Create a Deep Network\n",
        "DNN = Sequential()\n",
        "DNN.add(Input(shape=X.shape[1:], name='INPUT'))\n",
        "\n",
        "DNN.add(Dense(units=256, activation='relu'))\n",
        "DNN.add(Dense(units=512, activation='relu'))\n",
        "DNN.add(Dense(units=1024, activation='relu'))\n",
        "DNN.add(Dense(units=512, activation='relu'))\n",
        "DNN.add(Dense(units=256, activation='relu'))\n",
        "\n",
        "DNN.add(Dense(units=Y.shape[1], activation='linear', name='OUTPUT'))\n",
        "\n",
        "DNN.summary()"
      ]
    },
    {
      "cell_type": "code",
      "execution_count": 82,
      "metadata": {
        "id": "Y8TlQWPOVfxw"
      },
      "outputs": [],
      "source": [
        "# Define training parameters\n",
        "# Option 1:\n",
        "from tensorflow.keras.optimizers import SGD\n",
        "from tensorflow.keras.optimizers import Adagrad\n",
        "#sgd = SGD(learning_rate=0.02, momentum=0.6)\n",
        "#DNN.compile(optimizer=sgd, loss='mse')\n",
        "\n",
        "# Option 2:\n",
        "#DNN.compile(optimizer='rmsprop', loss='mse')\n",
        "\n",
        "# Try with different optimizers\n",
        "#DNN.compile(optimizer=???, loss='mse')\n",
        "\n",
        "#sgd2=SGD(nesterov=True)\n",
        "adagrad=Adagrad(lr=0.001, epsilon=1e-6)\n",
        "DNN.compile(optimizer=adagrad, loss='mse')"
      ]
    },
    {
      "cell_type": "code",
      "execution_count": 83,
      "metadata": {
        "colab": {
          "base_uri": "https://localhost:8080/"
        },
        "id": "cXaSP7HIVhTK",
        "outputId": "89e1e2ca-23f2-4d5e-ee80-bce1c184a7de"
      },
      "outputs": [
        {
          "name": "stdout",
          "output_type": "stream",
          "text": [
            "Epoch 1/50\n",
            "851/851 [==============================] - 14s 16ms/step - loss: 0.0189 - val_loss: 0.2232\n",
            "Epoch 2/50\n",
            "851/851 [==============================] - 13s 15ms/step - loss: 0.0169 - val_loss: 0.2223\n",
            "Epoch 3/50\n",
            "851/851 [==============================] - 14s 16ms/step - loss: 0.0158 - val_loss: 0.2218\n",
            "Epoch 4/50\n",
            "851/851 [==============================] - 13s 15ms/step - loss: 0.0150 - val_loss: 0.2210\n",
            "Epoch 5/50\n",
            "851/851 [==============================] - 13s 15ms/step - loss: 0.0144 - val_loss: 0.2206\n",
            "Epoch 6/50\n",
            "851/851 [==============================] - 13s 15ms/step - loss: 0.0139 - val_loss: 0.2204\n",
            "Epoch 7/50\n",
            "851/851 [==============================] - 13s 15ms/step - loss: 0.0135 - val_loss: 0.2200\n",
            "Epoch 8/50\n",
            "851/851 [==============================] - 13s 15ms/step - loss: 0.0132 - val_loss: 0.2198\n",
            "Epoch 9/50\n",
            "851/851 [==============================] - 13s 16ms/step - loss: 0.0128 - val_loss: 0.2196\n",
            "Epoch 10/50\n",
            "851/851 [==============================] - 13s 15ms/step - loss: 0.0126 - val_loss: 0.2193\n",
            "Epoch 11/50\n",
            "851/851 [==============================] - 13s 15ms/step - loss: 0.0123 - val_loss: 0.2191\n",
            "Epoch 12/50\n",
            "851/851 [==============================] - 15s 17ms/step - loss: 0.0121 - val_loss: 0.2189\n",
            "Epoch 13/50\n",
            "851/851 [==============================] - 13s 15ms/step - loss: 0.0119 - val_loss: 0.2187\n",
            "Epoch 14/50\n",
            "851/851 [==============================] - 13s 15ms/step - loss: 0.0117 - val_loss: 0.2186\n",
            "Epoch 15/50\n",
            "851/851 [==============================] - 13s 15ms/step - loss: 0.0115 - val_loss: 0.2185\n",
            "Epoch 16/50\n",
            "851/851 [==============================] - 13s 16ms/step - loss: 0.0113 - val_loss: 0.2183\n",
            "Epoch 17/50\n",
            "851/851 [==============================] - 14s 17ms/step - loss: 0.0112 - val_loss: 0.2181\n",
            "Epoch 18/50\n",
            "851/851 [==============================] - 15s 18ms/step - loss: 0.0110 - val_loss: 0.2181\n",
            "Epoch 19/50\n",
            "851/851 [==============================] - 16s 18ms/step - loss: 0.0109 - val_loss: 0.2180\n",
            "Epoch 20/50\n",
            "851/851 [==============================] - 16s 19ms/step - loss: 0.0107 - val_loss: 0.2178\n",
            "Epoch 21/50\n",
            "851/851 [==============================] - 15s 18ms/step - loss: 0.0106 - val_loss: 0.2177\n",
            "Epoch 22/50\n",
            "851/851 [==============================] - 14s 16ms/step - loss: 0.0105 - val_loss: 0.2176\n",
            "Epoch 23/50\n",
            "851/851 [==============================] - 14s 17ms/step - loss: 0.0104 - val_loss: 0.2177\n",
            "Epoch 24/50\n",
            "851/851 [==============================] - 14s 16ms/step - loss: 0.0103 - val_loss: 0.2174\n",
            "Epoch 25/50\n",
            "851/851 [==============================] - 18s 21ms/step - loss: 0.0102 - val_loss: 0.2173\n",
            "Epoch 26/50\n",
            "851/851 [==============================] - 15s 17ms/step - loss: 0.0101 - val_loss: 0.2172\n",
            "Epoch 27/50\n",
            "851/851 [==============================] - 14s 16ms/step - loss: 0.0100 - val_loss: 0.2172\n",
            "Epoch 28/50\n",
            "851/851 [==============================] - 14s 16ms/step - loss: 0.0099 - val_loss: 0.2172\n",
            "Epoch 29/50\n",
            "851/851 [==============================] - 16s 19ms/step - loss: 0.0098 - val_loss: 0.2171\n",
            "Epoch 30/50\n",
            "851/851 [==============================] - 14s 17ms/step - loss: 0.0097 - val_loss: 0.2169\n",
            "Epoch 31/50\n",
            "851/851 [==============================] - 16s 19ms/step - loss: 0.0097 - val_loss: 0.2170\n",
            "Epoch 32/50\n",
            "851/851 [==============================] - 14s 16ms/step - loss: 0.0096 - val_loss: 0.2168\n",
            "Epoch 33/50\n",
            "851/851 [==============================] - 14s 17ms/step - loss: 0.0095 - val_loss: 0.2168\n",
            "Epoch 34/50\n",
            "851/851 [==============================] - 14s 17ms/step - loss: 0.0094 - val_loss: 0.2168\n",
            "Epoch 35/50\n",
            "851/851 [==============================] - 15s 17ms/step - loss: 0.0094 - val_loss: 0.2167\n",
            "Epoch 36/50\n",
            "851/851 [==============================] - 18s 22ms/step - loss: 0.0093 - val_loss: 0.2168\n",
            "Epoch 37/50\n",
            "851/851 [==============================] - 17s 20ms/step - loss: 0.0092 - val_loss: 0.2167\n",
            "Epoch 38/50\n",
            "851/851 [==============================] - 17s 20ms/step - loss: 0.0092 - val_loss: 0.2167\n",
            "Epoch 39/50\n",
            "851/851 [==============================] - 16s 19ms/step - loss: 0.0091 - val_loss: 0.2165\n",
            "Epoch 40/50\n",
            "851/851 [==============================] - 16s 19ms/step - loss: 0.0091 - val_loss: 0.2165\n",
            "Epoch 41/50\n",
            "851/851 [==============================] - 16s 19ms/step - loss: 0.0090 - val_loss: 0.2165\n",
            "Epoch 42/50\n",
            "851/851 [==============================] - 18s 21ms/step - loss: 0.0090 - val_loss: 0.2164\n",
            "Epoch 43/50\n",
            "851/851 [==============================] - 14s 16ms/step - loss: 0.0089 - val_loss: 0.2165\n",
            "Epoch 44/50\n",
            "851/851 [==============================] - 16s 19ms/step - loss: 0.0088 - val_loss: 0.2164\n",
            "Epoch 45/50\n",
            "851/851 [==============================] - 15s 18ms/step - loss: 0.0088 - val_loss: 0.2164\n",
            "Epoch 46/50\n",
            "851/851 [==============================] - 13s 16ms/step - loss: 0.0087 - val_loss: 0.2163\n",
            "Epoch 47/50\n",
            "851/851 [==============================] - 14s 16ms/step - loss: 0.0087 - val_loss: 0.2163\n",
            "Epoch 48/50\n",
            "851/851 [==============================] - 14s 17ms/step - loss: 0.0086 - val_loss: 0.2162\n",
            "Epoch 49/50\n",
            "851/851 [==============================] - 14s 16ms/step - loss: 0.0086 - val_loss: 0.2162\n",
            "Epoch 50/50\n",
            "851/851 [==============================] - 14s 16ms/step - loss: 0.0086 - val_loss: 0.2163\n"
          ]
        }
      ],
      "source": [
        "# Train model\n",
        "#history = DNN.fit(x=x_train, y=y_train, batch_size=32, epochs=50, validation_split=0.1)\n",
        "history = DNN.fit(x=x_train, y=y_train, batch_size=128, epochs=100, validation_split=0.1)"
      ]
    },
    {
      "cell_type": "code",
      "execution_count": 84,
      "metadata": {
        "colab": {
          "base_uri": "https://localhost:8080/",
          "height": 334
        },
        "id": "sun9_RyLYzMM",
        "outputId": "c040b653-545f-431d-ea9f-71ef5cc85444"
      },
      "outputs": [
        {
          "data": {
            "image/png": "[encoded data removed]",
            "text/plain": [
              "<Figure size 864x360 with 1 Axes>"
            ]
          },
          "metadata": {
            "needs_background": "light"
          },
          "output_type": "display_data"
        }
      ],
      "source": [
        "# Plot loss\n",
        "plt.figure(figsize=(12, 5))\n",
        "plt.plot(DNN.history.history['loss'], label='Training', linewidth=2)\n",
        "plt.plot(DNN.history.history['val_loss'], label='Validation', linewidth=2)\n",
        "plt.legend()\n",
        "plt.xlabel('Epoch')\n",
        "plt.ylabel('Loss')\n",
        "plt.grid(True)\n",
        "plt.show()"
      ]
    },
    {
      "cell_type": "code",
      "execution_count": 85,
      "metadata": {
        "colab": {
          "base_uri": "https://localhost:8080/"
        },
        "id": "IJVCymAmcIB_",
        "outputId": "c1b4ad05-35e1-4886-d6db-f61675d81857"
      },
      "outputs": [
        {
          "name": "stdout",
          "output_type": "stream",
          "text": [
            "Generalization loss: 0.9604%\n"
          ]
        }
      ],
      "source": [
        "# Generalization metric (opcional)\n",
        "min_loss = np.min([DNN.history.history['loss'][-1], DNN.history.history['val_loss'][-1]])\n",
        "max_loss = np.max([DNN.history.history['loss'][-1], DNN.history.history['val_loss'][-1]])\n",
        "general_loss = (max_loss - min_loss) / max_loss\n",
        "print(f\"Generalization loss: {general_loss:6.4f}%\")"
      ]
    },
    {
      "cell_type": "code",
      "execution_count": 86,
      "metadata": {
        "colab": {
          "base_uri": "https://localhost:8080/"
        },
        "id": "jqWaiy_fb0-x",
        "outputId": "5bfa3f68-3fd1-4f11-f8cf-dafe03061a99"
      },
      "outputs": [
        {
          "name": "stdout",
          "output_type": "stream",
          "text": [
            "Test loss: 0.23735003173351288\n"
          ]
        }
      ],
      "source": [
        "# Compute test loss\n",
        "loss_test = DNN.evaluate(x=x_test, y=y_test, verbose=False)\n",
        "print(\"Test loss:\", loss_test)"
      ]
    },
    {
      "cell_type": "code",
      "execution_count": 87,
      "metadata": {
        "colab": {
          "base_uri": "https://localhost:8080/"
        },
        "id": "lQxF7hMCb8Cp",
        "outputId": "8a7719e5-12bb-4971-b67b-993405310617"
      },
      "outputs": [
        {
          "name": "stdout",
          "output_type": "stream",
          "text": [
            "(1591, 2)\n"
          ]
        }
      ],
      "source": [
        "# Predict on test set\n",
        "y_test_hat = DNN.predict(x=x_test)\n",
        "print(y_test_hat.shape)"
      ]
    },
    {
      "cell_type": "code",
      "execution_count": 88,
      "metadata": {
        "colab": {
          "base_uri": "https://localhost:8080/",
          "height": 295
        },
        "id": "tfAf4cIqcGyQ",
        "outputId": "be92731d-281f-415a-fa51-a3fc80f8047b"
      },
      "outputs": [
        {
          "data": {
            "image/png": "[encoded data removed]",
            "text/plain": [
              "<Figure size 432x288 with 1 Axes>"
            ]
          },
          "metadata": {
            "needs_background": "light"
          },
          "output_type": "display_data"
        }
      ],
      "source": [
        "# Plot y_test_hat\n",
        "indx = np.random.permutation(len(y_test))[:500]\n",
        "plt.scatter(y_test[indx, 0], y_test[indx, 1], c='b', label='y')\n",
        "plt.scatter(y_test_hat[indx, 0], y_test_hat[indx, 1], c='r', marker='+', label='y_h')\n",
        "\n",
        "plt.legend()\n",
        "plt.grid(True)\n",
        "plt.xlabel('PM2.5')\n",
        "plt.ylabel('NO2')\n",
        "plt.title('Test set and its predictions')\n",
        "plt.show()"
      ]
    },
    {
      "cell_type": "code",
      "execution_count": 92,
      "metadata": {
        "id": "euURHYHPQ9B3"
      },
      "outputs": [
        {
          "ename": "ValueError",
          "evalue": "object too deep for desired array",
          "output_type": "error",
          "traceback": [
            "\u001b[1;31m---------------------------------------------------------------------------\u001b[0m",
            "\u001b[1;31mValueError\u001b[0m                                Traceback (most recent call last)",
            "\u001b[1;32mc:\\Users\\diego\\pyprojects\\DL_03_Optimizers.ipynb Cell 23'\u001b[0m in \u001b[0;36m<cell line: 2>\u001b[1;34m()\u001b[0m\n\u001b[0;32m      <a href='vscode-notebook-cell:/c%3A/Users/diego/pyprojects/DL_03_Optimizers.ipynb#ch0000022?line=0'>1</a>\u001b[0m \u001b[39m#tf.stats.correlation(x=x_test,y=y_test_hat)\u001b[39;00m\n\u001b[1;32m----> <a href='vscode-notebook-cell:/c%3A/Users/diego/pyprojects/DL_03_Optimizers.ipynb#ch0000022?line=1'>2</a>\u001b[0m np\u001b[39m.\u001b[39;49mcorrelate(x_test,y_test_hat)\n",
            "File \u001b[1;32m<__array_function__ internals>:180\u001b[0m, in \u001b[0;36mcorrelate\u001b[1;34m(*args, **kwargs)\u001b[0m\n",
            "File \u001b[1;32m~\\AppData\\Local\\Programs\\Python\\Python310\\lib\\site-packages\\numpy\\core\\numeric.py:741\u001b[0m, in \u001b[0;36mcorrelate\u001b[1;34m(a, v, mode)\u001b[0m\n\u001b[0;32m    <a href='file:///c%3A/Users/diego/AppData/Local/Programs/Python/Python310/lib/site-packages/numpy/core/numeric.py?line=669'>670</a>\u001b[0m \u001b[39m@array_function_dispatch\u001b[39m(_correlate_dispatcher)\n\u001b[0;32m    <a href='file:///c%3A/Users/diego/AppData/Local/Programs/Python/Python310/lib/site-packages/numpy/core/numeric.py?line=670'>671</a>\u001b[0m \u001b[39mdef\u001b[39;00m \u001b[39mcorrelate\u001b[39m(a, v, mode\u001b[39m=\u001b[39m\u001b[39m'\u001b[39m\u001b[39mvalid\u001b[39m\u001b[39m'\u001b[39m):\n\u001b[0;32m    <a href='file:///c%3A/Users/diego/AppData/Local/Programs/Python/Python310/lib/site-packages/numpy/core/numeric.py?line=671'>672</a>\u001b[0m     \u001b[39m\"\"\"\u001b[39;00m\n\u001b[0;32m    <a href='file:///c%3A/Users/diego/AppData/Local/Programs/Python/Python310/lib/site-packages/numpy/core/numeric.py?line=672'>673</a>\u001b[0m \u001b[39m    Cross-correlation of two 1-dimensional sequences.\u001b[39;00m\n\u001b[0;32m    <a href='file:///c%3A/Users/diego/AppData/Local/Programs/Python/Python310/lib/site-packages/numpy/core/numeric.py?line=673'>674</a>\u001b[0m \n\u001b[1;32m   (...)\u001b[0m\n\u001b[0;32m    <a href='file:///c%3A/Users/diego/AppData/Local/Programs/Python/Python310/lib/site-packages/numpy/core/numeric.py?line=738'>739</a>\u001b[0m \n\u001b[0;32m    <a href='file:///c%3A/Users/diego/AppData/Local/Programs/Python/Python310/lib/site-packages/numpy/core/numeric.py?line=739'>740</a>\u001b[0m \u001b[39m    \"\"\"\u001b[39;00m\n\u001b[1;32m--> <a href='file:///c%3A/Users/diego/AppData/Local/Programs/Python/Python310/lib/site-packages/numpy/core/numeric.py?line=740'>741</a>\u001b[0m     \u001b[39mreturn\u001b[39;00m multiarray\u001b[39m.\u001b[39;49mcorrelate2(a, v, mode)\n",
            "\u001b[1;31mValueError\u001b[0m: object too deep for desired array"
          ]
        }
      ],
      "source": [
        "#tf.stats.correlation(x=x_test,y=y_test_hat)\n",
        "#np.correlate(x_test,y_test_hat)"
      ]
    }
  ],
  "metadata": {
    "accelerator": "GPU",
    "colab": {
      "collapsed_sections": [],
      "name": "DL_03_Optimizers.ipynb",
      "provenance": []
    },
    "kernelspec": {
      "display_name": "Python 3",
      "name": "python3"
    },
    "language_info": {
      "codemirror_mode": {
        "name": "ipython",
        "version": 3
      },
      "file_extension": ".py",
      "mimetype": "text/x-python",
      "name": "python",
      "nbconvert_exporter": "python",
      "pygments_lexer": "ipython3",
      "version": "3.10.2"
    }
  },
  "nbformat": 4,
  "nbformat_minor": 0
}
